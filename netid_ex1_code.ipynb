{
  "nbformat": 4,
  "nbformat_minor": 0,
  "metadata": {
    "colab": {
      "provenance": []
    },
    "kernelspec": {
      "name": "python3",
      "display_name": "Python 3"
    },
    "language_info": {
      "name": "python"
    }
  },
  "cells": [
    {
      "cell_type": "code",
      "execution_count": 8,
      "metadata": {
        "colab": {
          "base_uri": "https://localhost:8080/",
          "height": 269
        },
        "id": "F81qWXAdyr69",
        "outputId": "bee6461d-15f0-4b32-c7df-9dcf96904914"
      },
      "outputs": [
        {
          "output_type": "display_data",
          "data": {
            "text/plain": [
              "<Figure size 432x288 with 1 Axes>"
            ],
            "image/png": "[encoded data removed]"
          },
          "metadata": {
            "needs_background": "light"
          }
        }
      ],
      "source": [
        "import numpy as np\n",
        "import matplotlib.pyplot as plt\n",
        "from matplotlib import projections\n",
        "# 3D cube coordinates in the world coordinate frame \n",
        "cube_coordinates = np.array([[0, 0, 0],[1, 0, 0],[1, 1, 0],\n",
        "                             [0, 1, 0],[0, 0, 1],[1, 0, 1],\n",
        "                             [1, 1, 1],[0, 1, 1],])\n",
        "\n",
        "C = np.array([0, 1, -10])  # Xc,Yc,Zc - position of the camera\n",
        "#rotation_angle = np.deg2rad(30) \n",
        "Rotation_matrix = np.array([\n",
        "    [np.cos(np.deg2rad(30)), -np.sin(np.deg2rad(30)), 0],\n",
        "    [np.sin(np.deg2rad(30)), np.cos(np.deg2rad(30)), 0],\n",
        "    [0, 0, 1]])\n",
        "\n",
        "f = 5  # focal length\n",
        "k = np.array([[f, 0, 0],[0, f, 0], [0, 0, 1]])  \n",
        "\n",
        "# extrinsic camera parameters\n",
        "R = Rotation_matrix\n",
        "projection = np.column_stack((R,-Rotation_matrix.dot(C)))  # stacking the r values with the t(after rotation)\n",
        "\n",
        "# Projection\n",
        "column_ones = np.ones(len(cube_coordinates))\n",
        "Homogeneous_coordinates = np.column_stack((cube_coordinates, column_ones))  # 3D coordinates of the vertices (homogeneous)\n",
        "projection_vector = projection.dot(Homogeneous_coordinates.T)\n",
        "coordinates = k.dot(projection_vector).T  # retrieving 2D coordinates in the image plane\n",
        "x = coordinates[:, 0]\n",
        "y = coordinates[:, 1]\n",
        "# results \n",
        "\n",
        "fig, ax = plt.subplots()\n",
        "ax.set_aspect('equal')\n",
        "ax.scatter(x, y)\n",
        "ax.set_xlim(-4, 8)\n",
        "ax.set_ylim(-5, 3)\n",
        "plt.show()\n"
      ]
    },
    {
      "cell_type": "code",
      "source": [
        "x\n"
      ],
      "metadata": {
        "colab": {
          "base_uri": "https://localhost:8080/"
        },
        "id": "Gm7yxOZxWUjg",
        "outputId": "39764dc9-0f24-4bd0-dec6-3e1dd422b1a6"
      },
      "execution_count": 2,
      "outputs": [
        {
          "output_type": "execute_result",
          "data": {
            "text/plain": [
              "array([2.5       , 6.83012702, 4.33012702, 0.        , 2.5       ,\n",
              "       6.83012702, 4.33012702, 0.        ])"
            ]
          },
          "metadata": {},
          "execution_count": 2
        }
      ]
    },
    {
      "cell_type": "code",
      "source": [
        "y"
      ],
      "metadata": {
        "colab": {
          "base_uri": "https://localhost:8080/"
        },
        "id": "mCyg6VTbytl3",
        "outputId": "b4b4bd83-98b9-41dd-ff68-26315f4edac7"
      },
      "execution_count": 3,
      "outputs": [
        {
          "output_type": "execute_result",
          "data": {
            "text/plain": [
              "array([-4.33012702, -1.83012702,  2.5       ,  0.        , -4.33012702,\n",
              "       -1.83012702,  2.5       ,  0.        ])"
            ]
          },
          "metadata": {},
          "execution_count": 3
        }
      ]
    },
    {
      "cell_type": "code",
      "source": [],
      "metadata": {
        "id": "YXqHAgfyWnXm"
      },
      "execution_count": null,
      "outputs": []
    }
  ]
}